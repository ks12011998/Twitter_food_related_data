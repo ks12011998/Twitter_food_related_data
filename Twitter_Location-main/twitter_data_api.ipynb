{
 "cells": [
  {
   "cell_type": "code",
   "execution_count": 25,
   "metadata": {},
   "outputs": [],
   "source": [
    "import tweepy,json\n",
    "access_token=\"2427460241-yihCbhCrkA6QrS7mhtwkK9FCnoKMvZzPNRFEtYr\"\n",
    "access_token_secret=\"p6dTQRMwy0SxVP49oHLUXeJ1L4T2cDqPM4RNlcEPErJ9X\"\n",
    "consumer_key=\"3nHkUhoqNif1x64w2gN7UxfPD\"\n",
    "consumer_secret=\"SD0qR7yWtUdGDqYxPcUpyNsRcMsX5MJB9z4MxjVKyq6VYwvDp0\"\n",
    "auth= tweepy.OAuthHandler(consumer_key,consumer_secret)\n",
    "auth.set_access_token(access_token,access_token_secret)\n",
    "api = tweepy.API(auth)"
   ]
  },
  {
   "cell_type": "code",
   "execution_count": 26,
   "metadata": {},
   "outputs": [],
   "source": [
    "search_terms = ['home-cooked food for corona patients','homemade food for corona patients','food for corona patients','food for covid patients', 'covid food delivery', 'covid free home cooked food delivery','homemade food covid','homemade food corona','home-cooked food covid','home-cooked food corona']\n",
    "data = [] \n",
    "def stream_tweets(search_term):\n",
    "    counter = 0 \n",
    "    for tweet in tweepy.Cursor(api.search, q='\\\"{}\\\" -filter:retweets'.format(search_term), count=100, lang='en', tweet_mode='extended').items():\n",
    "        tweet_details = {}\n",
    "        tweet_details['time'] = str(tweet.user.created_at)\n",
    "        tweet_details['id'] = tweet.user.id\n",
    "        tweet_details['name'] = tweet.user.screen_name\n",
    "        tweet_details['tweet'] = tweet.full_text\n",
    "        tweet_details['retweets'] = tweet.retweet_count\n",
    "        tweet_details['location'] = tweet.user.location\n",
    "        tweet_details['created'] = tweet.created_at.strftime(\"%d-%b-%Y\")\n",
    "        tweet_details['followers'] = tweet.user.followers_count\n",
    "        tweet_details['is_user_verified'] = tweet.user.verified\n",
    "        data.append(tweet_details)\n",
    "        counter += 1\n",
    "        if counter == 1000:\n",
    "            break\n",
    "        else:\n",
    "            pass\n",
    "    with open('data.json', 'w') as f:\n",
    "        json.dump(data, f)\n",
    "    print('done!')"
   ]
  },
  {
   "cell_type": "code",
   "execution_count": 27,
   "metadata": {},
   "outputs": [
    {
     "name": "stdout",
     "output_type": "stream",
     "text": [
      "Starting to stream...\n",
      "done!\n",
      "done!\n",
      "done!\n",
      "done!\n",
      "done!\n",
      "done!\n",
      "done!\n",
      "done!\n",
      "done!\n",
      "done!\n",
      "finished!\n"
     ]
    }
   ],
   "source": [
    "if __name__ == \"__main__\":\n",
    "    print('Starting to stream...')\n",
    "    for k in search_terms:\n",
    "        stream_tweets(k)\n",
    "    print('finished!')"
   ]
  },
  {
   "cell_type": "code",
   "execution_count": null,
   "metadata": {},
   "outputs": [],
   "source": []
  }
 ],
 "metadata": {
  "kernelspec": {
   "display_name": "Python 3",
   "language": "python",
   "name": "python3"
  },
  "language_info": {
   "codemirror_mode": {
    "name": "ipython",
    "version": 3
   },
   "file_extension": ".py",
   "mimetype": "text/x-python",
   "name": "python",
   "nbconvert_exporter": "python",
   "pygments_lexer": "ipython3",
   "version": "3.7.4"
  }
 },
 "nbformat": 4,
 "nbformat_minor": 2
}
